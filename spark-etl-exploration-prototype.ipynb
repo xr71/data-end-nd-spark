{
 "cells": [
  {
   "cell_type": "code",
   "execution_count": 1,
   "metadata": {},
   "outputs": [],
   "source": [
    "import boto3\n",
    "import os\n",
    "import configparser\n",
    "import getpass\n",
    "\n",
    "import pyspark\n",
    "from pyspark.sql import SparkSession\n",
    "from pyspark.sql.functions import udf\n",
    "import pyspark.sql.functions as F"
   ]
  },
  {
   "cell_type": "markdown",
   "metadata": {},
   "source": [
    "# Set up Spark Session Locally and Connect to AWS for S3 Files"
   ]
  },
  {
   "cell_type": "code",
   "execution_count": 2,
   "metadata": {},
   "outputs": [],
   "source": [
    "os.environ[\"AWS_ACCESS_KEY_ID\"] = \"\"\n",
    "os.environ[\"AWS_SECRET_ACCESS_KEY\"] = \"\""
   ]
  },
  {
   "cell_type": "code",
   "execution_count": 3,
   "metadata": {},
   "outputs": [],
   "source": [
    "spark = SparkSession.builder\\\n",
    "                     .config(\"spark.jars.packages\",\"org.apache.hadoop:hadoop-aws:2.7.0\")\\\n",
    "                     .getOrCreate()"
   ]
  },
  {
   "cell_type": "code",
   "execution_count": 4,
   "metadata": {},
   "outputs": [
    {
     "data": {
      "text/html": [
       "\n",
       "            <div>\n",
       "                <p><b>SparkSession - in-memory</b></p>\n",
       "                \n",
       "        <div>\n",
       "            <p><b>SparkContext</b></p>\n",
       "\n",
       "            <p><a href=\"http://172.31.99.175:4040\">Spark UI</a></p>\n",
       "\n",
       "            <dl>\n",
       "              <dt>Version</dt>\n",
       "                <dd><code>v2.4.3</code></dd>\n",
       "              <dt>Master</dt>\n",
       "                <dd><code>local[*]</code></dd>\n",
       "              <dt>AppName</dt>\n",
       "                <dd><code>pyspark-shell</code></dd>\n",
       "            </dl>\n",
       "        </div>\n",
       "        \n",
       "            </div>\n",
       "        "
      ],
      "text/plain": [
       "<pyspark.sql.session.SparkSession at 0x283e181b5c0>"
      ]
     },
     "execution_count": 4,
     "metadata": {},
     "output_type": "execute_result"
    }
   ],
   "source": [
    "spark"
   ]
  },
  {
   "cell_type": "markdown",
   "metadata": {},
   "source": [
    "## Read Song Data Files"
   ]
  },
  {
   "cell_type": "code",
   "execution_count": 13,
   "metadata": {},
   "outputs": [],
   "source": [
    "song_raw = spark.read.json(\"s3a://udacity-dend/song_data/A/A/A/*.json\")"
   ]
  },
  {
   "cell_type": "code",
   "execution_count": 14,
   "metadata": {},
   "outputs": [
    {
     "name": "stdout",
     "output_type": "stream",
     "text": [
      "root\n",
      " |-- artist_id: string (nullable = true)\n",
      " |-- artist_latitude: double (nullable = true)\n",
      " |-- artist_location: string (nullable = true)\n",
      " |-- artist_longitude: double (nullable = true)\n",
      " |-- artist_name: string (nullable = true)\n",
      " |-- duration: double (nullable = true)\n",
      " |-- num_songs: long (nullable = true)\n",
      " |-- song_id: string (nullable = true)\n",
      " |-- title: string (nullable = true)\n",
      " |-- year: long (nullable = true)\n",
      "\n"
     ]
    }
   ],
   "source": [
    "song_raw.printSchema()"
   ]
  },
  {
   "cell_type": "code",
   "execution_count": 15,
   "metadata": {},
   "outputs": [
    {
     "data": {
      "text/plain": [
       "24"
      ]
     },
     "execution_count": 15,
     "metadata": {},
     "output_type": "execute_result"
    }
   ],
   "source": [
    "song_raw.count()"
   ]
  },
  {
   "cell_type": "code",
   "execution_count": 16,
   "metadata": {},
   "outputs": [
    {
     "data": {
      "text/html": [
       "<div>\n",
       "<style scoped>\n",
       "    .dataframe tbody tr th:only-of-type {\n",
       "        vertical-align: middle;\n",
       "    }\n",
       "\n",
       "    .dataframe tbody tr th {\n",
       "        vertical-align: top;\n",
       "    }\n",
       "\n",
       "    .dataframe thead th {\n",
       "        text-align: right;\n",
       "    }\n",
       "</style>\n",
       "<table border=\"1\" class=\"dataframe\">\n",
       "  <thead>\n",
       "    <tr style=\"text-align: right;\">\n",
       "      <th></th>\n",
       "      <th>artist_id</th>\n",
       "      <th>artist_latitude</th>\n",
       "      <th>artist_location</th>\n",
       "      <th>artist_longitude</th>\n",
       "      <th>artist_name</th>\n",
       "      <th>duration</th>\n",
       "      <th>num_songs</th>\n",
       "      <th>song_id</th>\n",
       "      <th>title</th>\n",
       "      <th>year</th>\n",
       "    </tr>\n",
       "  </thead>\n",
       "  <tbody>\n",
       "    <tr>\n",
       "      <th>0</th>\n",
       "      <td>ARTC1LV1187B9A4858</td>\n",
       "      <td>51.45360</td>\n",
       "      <td>Goldsmith's College, Lewisham, Lo</td>\n",
       "      <td>-0.01802</td>\n",
       "      <td>The Bonzo Dog Band</td>\n",
       "      <td>301.40036</td>\n",
       "      <td>1</td>\n",
       "      <td>SOAFBCP12A8C13CC7D</td>\n",
       "      <td>King Of Scurf (2007 Digital Remaster)</td>\n",
       "      <td>1972</td>\n",
       "    </tr>\n",
       "    <tr>\n",
       "      <th>1</th>\n",
       "      <td>ARA23XO1187B9AF18F</td>\n",
       "      <td>40.57885</td>\n",
       "      <td>Carteret, New Jersey</td>\n",
       "      <td>-74.21956</td>\n",
       "      <td>The Smithereens</td>\n",
       "      <td>192.52200</td>\n",
       "      <td>1</td>\n",
       "      <td>SOKTJDS12AF72A25E5</td>\n",
       "      <td>Drown In My Own Tears (24-Bit Digitally Remast...</td>\n",
       "      <td>0</td>\n",
       "    </tr>\n",
       "  </tbody>\n",
       "</table>\n",
       "</div>"
      ],
      "text/plain": [
       "            artist_id  artist_latitude                    artist_location  \\\n",
       "0  ARTC1LV1187B9A4858         51.45360  Goldsmith's College, Lewisham, Lo   \n",
       "1  ARA23XO1187B9AF18F         40.57885               Carteret, New Jersey   \n",
       "\n",
       "   artist_longitude         artist_name   duration  num_songs  \\\n",
       "0          -0.01802  The Bonzo Dog Band  301.40036          1   \n",
       "1         -74.21956     The Smithereens  192.52200          1   \n",
       "\n",
       "              song_id                                              title  year  \n",
       "0  SOAFBCP12A8C13CC7D              King Of Scurf (2007 Digital Remaster)  1972  \n",
       "1  SOKTJDS12AF72A25E5  Drown In My Own Tears (24-Bit Digitally Remast...     0  "
      ]
     },
     "execution_count": 16,
     "metadata": {},
     "output_type": "execute_result"
    }
   ],
   "source": [
    "song_raw.limit(2).toPandas()"
   ]
  },
  {
   "cell_type": "markdown",
   "metadata": {},
   "source": [
    "## Read Events JSON Files"
   ]
  },
  {
   "cell_type": "code",
   "execution_count": 17,
   "metadata": {},
   "outputs": [],
   "source": [
    "event_raw = spark.read.json(\"s3a://udacity-dend/log_data/2018/11/2018-11-12-events.json\")"
   ]
  },
  {
   "cell_type": "code",
   "execution_count": 18,
   "metadata": {},
   "outputs": [
    {
     "name": "stdout",
     "output_type": "stream",
     "text": [
      "root\n",
      " |-- artist: string (nullable = true)\n",
      " |-- auth: string (nullable = true)\n",
      " |-- firstName: string (nullable = true)\n",
      " |-- gender: string (nullable = true)\n",
      " |-- itemInSession: long (nullable = true)\n",
      " |-- lastName: string (nullable = true)\n",
      " |-- length: double (nullable = true)\n",
      " |-- level: string (nullable = true)\n",
      " |-- location: string (nullable = true)\n",
      " |-- method: string (nullable = true)\n",
      " |-- page: string (nullable = true)\n",
      " |-- registration: double (nullable = true)\n",
      " |-- sessionId: long (nullable = true)\n",
      " |-- song: string (nullable = true)\n",
      " |-- status: long (nullable = true)\n",
      " |-- ts: long (nullable = true)\n",
      " |-- userAgent: string (nullable = true)\n",
      " |-- userId: string (nullable = true)\n",
      "\n"
     ]
    }
   ],
   "source": [
    "event_raw.printSchema()"
   ]
  },
  {
   "cell_type": "code",
   "execution_count": 19,
   "metadata": {},
   "outputs": [
    {
     "data": {
      "text/plain": [
       "213"
      ]
     },
     "execution_count": 19,
     "metadata": {},
     "output_type": "execute_result"
    }
   ],
   "source": [
    "event_raw.count()"
   ]
  },
  {
   "cell_type": "code",
   "execution_count": 20,
   "metadata": {},
   "outputs": [
    {
     "data": {
      "text/html": [
       "<div>\n",
       "<style scoped>\n",
       "    .dataframe tbody tr th:only-of-type {\n",
       "        vertical-align: middle;\n",
       "    }\n",
       "\n",
       "    .dataframe tbody tr th {\n",
       "        vertical-align: top;\n",
       "    }\n",
       "\n",
       "    .dataframe thead th {\n",
       "        text-align: right;\n",
       "    }\n",
       "</style>\n",
       "<table border=\"1\" class=\"dataframe\">\n",
       "  <thead>\n",
       "    <tr style=\"text-align: right;\">\n",
       "      <th></th>\n",
       "      <th>artist</th>\n",
       "      <th>auth</th>\n",
       "      <th>firstName</th>\n",
       "      <th>gender</th>\n",
       "      <th>itemInSession</th>\n",
       "      <th>lastName</th>\n",
       "      <th>length</th>\n",
       "      <th>level</th>\n",
       "      <th>location</th>\n",
       "      <th>method</th>\n",
       "      <th>page</th>\n",
       "      <th>registration</th>\n",
       "      <th>sessionId</th>\n",
       "      <th>song</th>\n",
       "      <th>status</th>\n",
       "      <th>ts</th>\n",
       "      <th>userAgent</th>\n",
       "      <th>userId</th>\n",
       "    </tr>\n",
       "  </thead>\n",
       "  <tbody>\n",
       "    <tr>\n",
       "      <th>0</th>\n",
       "      <td>None</td>\n",
       "      <td>Logged In</td>\n",
       "      <td>Celeste</td>\n",
       "      <td>F</td>\n",
       "      <td>0</td>\n",
       "      <td>Williams</td>\n",
       "      <td>NaN</td>\n",
       "      <td>free</td>\n",
       "      <td>Klamath Falls, OR</td>\n",
       "      <td>GET</td>\n",
       "      <td>Home</td>\n",
       "      <td>1.541078e+12</td>\n",
       "      <td>438</td>\n",
       "      <td>None</td>\n",
       "      <td>200</td>\n",
       "      <td>1541990217796</td>\n",
       "      <td>\"Mozilla/5.0 (Windows NT 6.1; WOW64) AppleWebK...</td>\n",
       "      <td>53</td>\n",
       "    </tr>\n",
       "    <tr>\n",
       "      <th>1</th>\n",
       "      <td>Pavement</td>\n",
       "      <td>Logged In</td>\n",
       "      <td>Sylvie</td>\n",
       "      <td>F</td>\n",
       "      <td>0</td>\n",
       "      <td>Cruz</td>\n",
       "      <td>99.16036</td>\n",
       "      <td>free</td>\n",
       "      <td>Washington-Arlington-Alexandria, DC-VA-MD-WV</td>\n",
       "      <td>PUT</td>\n",
       "      <td>NextSong</td>\n",
       "      <td>1.540266e+12</td>\n",
       "      <td>345</td>\n",
       "      <td>Mercy:The Laundromat</td>\n",
       "      <td>200</td>\n",
       "      <td>1541990258796</td>\n",
       "      <td>\"Mozilla/5.0 (Macintosh; Intel Mac OS X 10_9_4...</td>\n",
       "      <td>10</td>\n",
       "    </tr>\n",
       "  </tbody>\n",
       "</table>\n",
       "</div>"
      ],
      "text/plain": [
       "     artist       auth firstName gender  itemInSession  lastName    length  \\\n",
       "0      None  Logged In   Celeste      F              0  Williams       NaN   \n",
       "1  Pavement  Logged In    Sylvie      F              0      Cruz  99.16036   \n",
       "\n",
       "  level                                      location method      page  \\\n",
       "0  free                             Klamath Falls, OR    GET      Home   \n",
       "1  free  Washington-Arlington-Alexandria, DC-VA-MD-WV    PUT  NextSong   \n",
       "\n",
       "   registration  sessionId                  song  status             ts  \\\n",
       "0  1.541078e+12        438                  None     200  1541990217796   \n",
       "1  1.540266e+12        345  Mercy:The Laundromat     200  1541990258796   \n",
       "\n",
       "                                           userAgent userId  \n",
       "0  \"Mozilla/5.0 (Windows NT 6.1; WOW64) AppleWebK...     53  \n",
       "1  \"Mozilla/5.0 (Macintosh; Intel Mac OS X 10_9_4...     10  "
      ]
     },
     "execution_count": 20,
     "metadata": {},
     "output_type": "execute_result"
    }
   ],
   "source": [
    "event_raw.limit(2).toPandas()"
   ]
  },
  {
   "cell_type": "markdown",
   "metadata": {},
   "source": [
    "# ETL"
   ]
  },
  {
   "cell_type": "markdown",
   "metadata": {},
   "source": [
    "## Dimension Tables\n",
    "* users - users in the app\n",
    "    * user_id, first_name, last_name, gender, level\n",
    "  \n",
    "  \n",
    "* songs - songs in music database\n",
    "    * song_id, title, artist_id, year, duration\n",
    "  \n",
    "  \n",
    "* artists - artists in music database\n",
    "    * artist_id, name, location, lattitude, longitude\n",
    "  \n",
    "  \n",
    "* time - timestamps of records in songplays broken down into specific units\n",
    "    * start_time, hour, day, week, month, year, weekday"
   ]
  },
  {
   "cell_type": "code",
   "execution_count": 21,
   "metadata": {},
   "outputs": [],
   "source": [
    "event_raw.createOrReplaceTempView(\"stg_event_raw\")"
   ]
  },
  {
   "cell_type": "code",
   "execution_count": 39,
   "metadata": {},
   "outputs": [],
   "source": [
    "song_raw.createOrReplaceTempView(\"stg_song_raw\")"
   ]
  },
  {
   "cell_type": "code",
   "execution_count": 37,
   "metadata": {},
   "outputs": [],
   "source": [
    "# users table\n",
    "users_tbl = spark.sql(\"\"\"\n",
    "    select distinct userId as user_id\n",
    "          ,firstName as first_name\n",
    "          ,lastName as last_name\n",
    "          ,gender\n",
    "          ,level\n",
    "    from stg_event_raw\n",
    "    where userId is not null\n",
    "        and userId <> ''\n",
    "\"\"\")"
   ]
  },
  {
   "cell_type": "code",
   "execution_count": 38,
   "metadata": {},
   "outputs": [
    {
     "data": {
      "text/plain": [
       "26"
      ]
     },
     "execution_count": 38,
     "metadata": {},
     "output_type": "execute_result"
    }
   ],
   "source": [
    "users_tbl.count()"
   ]
  },
  {
   "cell_type": "code",
   "execution_count": 42,
   "metadata": {},
   "outputs": [],
   "source": [
    "# songs table\n",
    "songs_tbl = spark.sql(\"\"\"\n",
    "    select distinct song_id\n",
    "          ,title\n",
    "          ,artist_id\n",
    "          ,year\n",
    "          ,duration\n",
    "    from stg_song_raw\n",
    "    where song_id is not null\n",
    "        and song_id <> ''\n",
    "\"\"\")"
   ]
  },
  {
   "cell_type": "code",
   "execution_count": 46,
   "metadata": {},
   "outputs": [
    {
     "name": "stdout",
     "output_type": "stream",
     "text": [
      "+------------------+--------------------+------------------+----+---------+\n",
      "|           song_id|               title|         artist_id|year| duration|\n",
      "+------------------+--------------------+------------------+----+---------+\n",
      "|SOXZYWX12A6310ED0C|     It's About Time|ARC1IHZ1187FB4E920|   0| 246.9873|\n",
      "|SOTAZDY12AB0187616|            Drillbit|ARZKCQM1257509D107|   0|374.62159|\n",
      "|SOSMJFC12A8C13DE0C|Is That All There...|AR1KTV21187B9ACD72|   0|343.87546|\n",
      "|SORRNOC12AB017F52B|The Last Beat Of ...|ARSZ7L31187FB4E610|2004|337.81506|\n",
      "|SOQPWCR12A6D4FB2A3|A Poor Recipe For...|AR73AIO1187B9AD57B|2005|118.07302|\n",
      "+------------------+--------------------+------------------+----+---------+\n",
      "only showing top 5 rows\n",
      "\n"
     ]
    }
   ],
   "source": [
    "songs_tbl.sort(F.desc(\"song_id\")).show(5)"
   ]
  },
  {
   "cell_type": "code",
   "execution_count": 49,
   "metadata": {},
   "outputs": [],
   "source": [
    "# artists table\n",
    "artists_tbl = spark.sql(\"\"\"\n",
    "    select distinct artist_id\n",
    "          ,artist_name as name\n",
    "          ,artist_location as location\n",
    "          ,artist_latitude as latitude\n",
    "          ,artist_longitude as longitude\n",
    "    from stg_song_raw\n",
    "    where artist_id is not null\n",
    "        and artist_id <> ''\n",
    "\"\"\")"
   ]
  },
  {
   "cell_type": "code",
   "execution_count": 52,
   "metadata": {},
   "outputs": [
    {
     "data": {
      "text/plain": [
       "24"
      ]
     },
     "execution_count": 52,
     "metadata": {},
     "output_type": "execute_result"
    }
   ],
   "source": [
    "artists_tbl.count()"
   ]
  },
  {
   "cell_type": "code",
   "execution_count": 66,
   "metadata": {},
   "outputs": [
    {
     "name": "stdout",
     "output_type": "stream",
     "text": [
      "+--------------------+----+---+\n",
      "|          start_time|hour|day|\n",
      "+--------------------+----+---+\n",
      "|2018-11-12 10:55:...|  10| 12|\n",
      "|2018-11-12 10:57:...|  10| 12|\n",
      "|2018-11-12 14:45:...|  14| 12|\n",
      "|2018-11-12 00:42:...|   0| 12|\n",
      "|2018-11-12 15:50:...|  15| 12|\n",
      "+--------------------+----+---+\n",
      "only showing top 5 rows\n",
      "\n"
     ]
    }
   ],
   "source": [
    "# time table\n",
    "spark.sql(\"\"\"\n",
    "    select start_time\n",
    "          ,hour(start_time) as hour\n",
    "          ,dayofmonth(start_time) as day\n",
    "    from\n",
    "    (\n",
    "        select distinct to_timestamp(ts/1000) as start_time\n",
    "        from stg_event_raw\n",
    "        where ts is not null\n",
    "    )\n",
    "\"\"\").show(5)"
   ]
  },
  {
   "cell_type": "code",
   "execution_count": 64,
   "metadata": {},
   "outputs": [],
   "source": [
    "time_tbl = spark.sql(\"\"\"\n",
    "    select start_time\n",
    "          ,hour(start_time) as hour\n",
    "          ,dayofmonth(start_time) as day\n",
    "          ,weekofyear(start_time) as week\n",
    "          ,month(start_time) as month\n",
    "          ,year(start_time) as year\n",
    "          ,dayofweek(start_time) as weekday\n",
    "    from\n",
    "    (\n",
    "        select distinct to_timestamp(ts/1000) as start_time\n",
    "        from stg_event_raw\n",
    "        where ts is not null\n",
    "    )\n",
    "\"\"\")"
   ]
  },
  {
   "cell_type": "code",
   "execution_count": 68,
   "metadata": {},
   "outputs": [
    {
     "data": {
      "text/html": [
       "<div>\n",
       "<style scoped>\n",
       "    .dataframe tbody tr th:only-of-type {\n",
       "        vertical-align: middle;\n",
       "    }\n",
       "\n",
       "    .dataframe tbody tr th {\n",
       "        vertical-align: top;\n",
       "    }\n",
       "\n",
       "    .dataframe thead th {\n",
       "        text-align: right;\n",
       "    }\n",
       "</style>\n",
       "<table border=\"1\" class=\"dataframe\">\n",
       "  <thead>\n",
       "    <tr style=\"text-align: right;\">\n",
       "      <th></th>\n",
       "      <th>start_time</th>\n",
       "      <th>hour</th>\n",
       "      <th>day</th>\n",
       "      <th>week</th>\n",
       "      <th>month</th>\n",
       "      <th>year</th>\n",
       "      <th>weekday</th>\n",
       "    </tr>\n",
       "  </thead>\n",
       "  <tbody>\n",
       "    <tr>\n",
       "      <th>0</th>\n",
       "      <td>2018-11-12 10:55:33.796</td>\n",
       "      <td>10</td>\n",
       "      <td>12</td>\n",
       "      <td>46</td>\n",
       "      <td>11</td>\n",
       "      <td>2018</td>\n",
       "      <td>2</td>\n",
       "    </tr>\n",
       "    <tr>\n",
       "      <th>1</th>\n",
       "      <td>2018-11-12 10:57:55.796</td>\n",
       "      <td>10</td>\n",
       "      <td>12</td>\n",
       "      <td>46</td>\n",
       "      <td>11</td>\n",
       "      <td>2018</td>\n",
       "      <td>2</td>\n",
       "    </tr>\n",
       "    <tr>\n",
       "      <th>2</th>\n",
       "      <td>2018-11-12 14:45:03.796</td>\n",
       "      <td>14</td>\n",
       "      <td>12</td>\n",
       "      <td>46</td>\n",
       "      <td>11</td>\n",
       "      <td>2018</td>\n",
       "      <td>2</td>\n",
       "    </tr>\n",
       "    <tr>\n",
       "      <th>3</th>\n",
       "      <td>2018-11-12 00:42:00.796</td>\n",
       "      <td>0</td>\n",
       "      <td>12</td>\n",
       "      <td>46</td>\n",
       "      <td>11</td>\n",
       "      <td>2018</td>\n",
       "      <td>2</td>\n",
       "    </tr>\n",
       "    <tr>\n",
       "      <th>4</th>\n",
       "      <td>2018-11-12 15:50:14.796</td>\n",
       "      <td>15</td>\n",
       "      <td>12</td>\n",
       "      <td>46</td>\n",
       "      <td>11</td>\n",
       "      <td>2018</td>\n",
       "      <td>2</td>\n",
       "    </tr>\n",
       "  </tbody>\n",
       "</table>\n",
       "</div>"
      ],
      "text/plain": [
       "               start_time  hour  day  week  month  year  weekday\n",
       "0 2018-11-12 10:55:33.796    10   12    46     11  2018        2\n",
       "1 2018-11-12 10:57:55.796    10   12    46     11  2018        2\n",
       "2 2018-11-12 14:45:03.796    14   12    46     11  2018        2\n",
       "3 2018-11-12 00:42:00.796     0   12    46     11  2018        2\n",
       "4 2018-11-12 15:50:14.796    15   12    46     11  2018        2"
      ]
     },
     "execution_count": 68,
     "metadata": {},
     "output_type": "execute_result"
    }
   ],
   "source": [
    "time_tbl.limit(5).toPandas()"
   ]
  },
  {
   "cell_type": "markdown",
   "metadata": {},
   "source": [
    "## Facts Table"
   ]
  },
  {
   "cell_type": "markdown",
   "metadata": {},
   "source": [
    "songplays - records in log data associated with song plays i.e. records with page NextSong\n",
    "* songplay_id, start_time, user_id, level, song_id, artist_id, session_id, location, user_agent"
   ]
  },
  {
   "cell_type": "code",
   "execution_count": 72,
   "metadata": {},
   "outputs": [
    {
     "data": {
      "text/html": [
       "<div>\n",
       "<style scoped>\n",
       "    .dataframe tbody tr th:only-of-type {\n",
       "        vertical-align: middle;\n",
       "    }\n",
       "\n",
       "    .dataframe tbody tr th {\n",
       "        vertical-align: top;\n",
       "    }\n",
       "\n",
       "    .dataframe thead th {\n",
       "        text-align: right;\n",
       "    }\n",
       "</style>\n",
       "<table border=\"1\" class=\"dataframe\">\n",
       "  <thead>\n",
       "    <tr style=\"text-align: right;\">\n",
       "      <th></th>\n",
       "      <th>artist</th>\n",
       "      <th>auth</th>\n",
       "      <th>firstName</th>\n",
       "      <th>gender</th>\n",
       "      <th>itemInSession</th>\n",
       "      <th>lastName</th>\n",
       "      <th>length</th>\n",
       "      <th>level</th>\n",
       "      <th>location</th>\n",
       "      <th>method</th>\n",
       "      <th>page</th>\n",
       "      <th>registration</th>\n",
       "      <th>sessionId</th>\n",
       "      <th>song</th>\n",
       "      <th>status</th>\n",
       "      <th>ts</th>\n",
       "      <th>userAgent</th>\n",
       "      <th>userId</th>\n",
       "    </tr>\n",
       "  </thead>\n",
       "  <tbody>\n",
       "    <tr>\n",
       "      <th>0</th>\n",
       "      <td>Pavement</td>\n",
       "      <td>Logged In</td>\n",
       "      <td>Sylvie</td>\n",
       "      <td>F</td>\n",
       "      <td>0</td>\n",
       "      <td>Cruz</td>\n",
       "      <td>99.16036</td>\n",
       "      <td>free</td>\n",
       "      <td>Washington-Arlington-Alexandria, DC-VA-MD-WV</td>\n",
       "      <td>PUT</td>\n",
       "      <td>NextSong</td>\n",
       "      <td>1.540266e+12</td>\n",
       "      <td>345</td>\n",
       "      <td>Mercy:The Laundromat</td>\n",
       "      <td>200</td>\n",
       "      <td>1541990258796</td>\n",
       "      <td>\"Mozilla/5.0 (Macintosh; Intel Mac OS X 10_9_4...</td>\n",
       "      <td>10</td>\n",
       "    </tr>\n",
       "    <tr>\n",
       "      <th>1</th>\n",
       "      <td>Barry Tuckwell/Academy of St Martin-in-the-Fie...</td>\n",
       "      <td>Logged In</td>\n",
       "      <td>Celeste</td>\n",
       "      <td>F</td>\n",
       "      <td>1</td>\n",
       "      <td>Williams</td>\n",
       "      <td>277.15873</td>\n",
       "      <td>free</td>\n",
       "      <td>Klamath Falls, OR</td>\n",
       "      <td>PUT</td>\n",
       "      <td>NextSong</td>\n",
       "      <td>1.541078e+12</td>\n",
       "      <td>438</td>\n",
       "      <td>Horn Concerto No. 4 in E flat K495: II. Romanc...</td>\n",
       "      <td>200</td>\n",
       "      <td>1541990264796</td>\n",
       "      <td>\"Mozilla/5.0 (Windows NT 6.1; WOW64) AppleWebK...</td>\n",
       "      <td>53</td>\n",
       "    </tr>\n",
       "  </tbody>\n",
       "</table>\n",
       "</div>"
      ],
      "text/plain": [
       "                                              artist       auth firstName  \\\n",
       "0                                           Pavement  Logged In    Sylvie   \n",
       "1  Barry Tuckwell/Academy of St Martin-in-the-Fie...  Logged In   Celeste   \n",
       "\n",
       "  gender  itemInSession  lastName     length level  \\\n",
       "0      F              0      Cruz   99.16036  free   \n",
       "1      F              1  Williams  277.15873  free   \n",
       "\n",
       "                                       location method      page  \\\n",
       "0  Washington-Arlington-Alexandria, DC-VA-MD-WV    PUT  NextSong   \n",
       "1                             Klamath Falls, OR    PUT  NextSong   \n",
       "\n",
       "   registration  sessionId                                               song  \\\n",
       "0  1.540266e+12        345                               Mercy:The Laundromat   \n",
       "1  1.541078e+12        438  Horn Concerto No. 4 in E flat K495: II. Romanc...   \n",
       "\n",
       "   status             ts                                          userAgent  \\\n",
       "0     200  1541990258796  \"Mozilla/5.0 (Macintosh; Intel Mac OS X 10_9_4...   \n",
       "1     200  1541990264796  \"Mozilla/5.0 (Windows NT 6.1; WOW64) AppleWebK...   \n",
       "\n",
       "  userId  \n",
       "0     10  \n",
       "1     53  "
      ]
     },
     "execution_count": 72,
     "metadata": {},
     "output_type": "execute_result"
    }
   ],
   "source": [
    "spark.sql(\"\"\"\n",
    "    select *\n",
    "    from stg_event_raw as log\n",
    "    where page = 'NextSong'\n",
    "\"\"\").limit(2).toPandas()"
   ]
  },
  {
   "cell_type": "code",
   "execution_count": 90,
   "metadata": {},
   "outputs": [
    {
     "data": {
      "text/html": [
       "<div>\n",
       "<style scoped>\n",
       "    .dataframe tbody tr th:only-of-type {\n",
       "        vertical-align: middle;\n",
       "    }\n",
       "\n",
       "    .dataframe tbody tr th {\n",
       "        vertical-align: top;\n",
       "    }\n",
       "\n",
       "    .dataframe thead th {\n",
       "        text-align: right;\n",
       "    }\n",
       "</style>\n",
       "<table border=\"1\" class=\"dataframe\">\n",
       "  <thead>\n",
       "    <tr style=\"text-align: right;\">\n",
       "      <th></th>\n",
       "      <th>songplay_id</th>\n",
       "      <th>start_time</th>\n",
       "      <th>user_id</th>\n",
       "      <th>level</th>\n",
       "      <th>session_id</th>\n",
       "      <th>location</th>\n",
       "      <th>user_agent</th>\n",
       "    </tr>\n",
       "  </thead>\n",
       "  <tbody>\n",
       "    <tr>\n",
       "      <th>0</th>\n",
       "      <td>0</td>\n",
       "      <td>2018-11-11 21:37:38.796</td>\n",
       "      <td>10</td>\n",
       "      <td>free</td>\n",
       "      <td>345</td>\n",
       "      <td>Washington-Arlington-Alexandria, DC-VA-MD-WV</td>\n",
       "      <td>\"Mozilla/5.0 (Macintosh; Intel Mac OS X 10_9_4...</td>\n",
       "    </tr>\n",
       "    <tr>\n",
       "      <th>1</th>\n",
       "      <td>1</td>\n",
       "      <td>2018-11-11 21:37:44.796</td>\n",
       "      <td>53</td>\n",
       "      <td>free</td>\n",
       "      <td>438</td>\n",
       "      <td>Klamath Falls, OR</td>\n",
       "      <td>\"Mozilla/5.0 (Windows NT 6.1; WOW64) AppleWebK...</td>\n",
       "    </tr>\n",
       "    <tr>\n",
       "      <th>2</th>\n",
       "      <td>2</td>\n",
       "      <td>2018-11-11 21:42:21.796</td>\n",
       "      <td>53</td>\n",
       "      <td>free</td>\n",
       "      <td>438</td>\n",
       "      <td>Klamath Falls, OR</td>\n",
       "      <td>\"Mozilla/5.0 (Windows NT 6.1; WOW64) AppleWebK...</td>\n",
       "    </tr>\n",
       "    <tr>\n",
       "      <th>3</th>\n",
       "      <td>3</td>\n",
       "      <td>2018-11-11 21:45:52.796</td>\n",
       "      <td>53</td>\n",
       "      <td>free</td>\n",
       "      <td>438</td>\n",
       "      <td>Klamath Falls, OR</td>\n",
       "      <td>\"Mozilla/5.0 (Windows NT 6.1; WOW64) AppleWebK...</td>\n",
       "    </tr>\n",
       "    <tr>\n",
       "      <th>4</th>\n",
       "      <td>4</td>\n",
       "      <td>2018-11-11 21:47:22.796</td>\n",
       "      <td>29</td>\n",
       "      <td>paid</td>\n",
       "      <td>389</td>\n",
       "      <td>Atlanta-Sandy Springs-Roswell, GA</td>\n",
       "      <td>\"Mozilla/5.0 (Macintosh; Intel Mac OS X 10_9_4...</td>\n",
       "    </tr>\n",
       "  </tbody>\n",
       "</table>\n",
       "</div>"
      ],
      "text/plain": [
       "   songplay_id              start_time user_id level  session_id  \\\n",
       "0            0 2018-11-11 21:37:38.796      10  free         345   \n",
       "1            1 2018-11-11 21:37:44.796      53  free         438   \n",
       "2            2 2018-11-11 21:42:21.796      53  free         438   \n",
       "3            3 2018-11-11 21:45:52.796      53  free         438   \n",
       "4            4 2018-11-11 21:47:22.796      29  paid         389   \n",
       "\n",
       "                                       location  \\\n",
       "0  Washington-Arlington-Alexandria, DC-VA-MD-WV   \n",
       "1                             Klamath Falls, OR   \n",
       "2                             Klamath Falls, OR   \n",
       "3                             Klamath Falls, OR   \n",
       "4             Atlanta-Sandy Springs-Roswell, GA   \n",
       "\n",
       "                                          user_agent  \n",
       "0  \"Mozilla/5.0 (Macintosh; Intel Mac OS X 10_9_4...  \n",
       "1  \"Mozilla/5.0 (Windows NT 6.1; WOW64) AppleWebK...  \n",
       "2  \"Mozilla/5.0 (Windows NT 6.1; WOW64) AppleWebK...  \n",
       "3  \"Mozilla/5.0 (Windows NT 6.1; WOW64) AppleWebK...  \n",
       "4  \"Mozilla/5.0 (Macintosh; Intel Mac OS X 10_9_4...  "
      ]
     },
     "execution_count": 90,
     "metadata": {},
     "output_type": "execute_result"
    }
   ],
   "source": [
    "spark.sql(\"\"\"\n",
    "    select monotonically_increasing_id() as songplay_id\n",
    "          ,to_timestamp(log.ts/1000) as start_time\n",
    "          ,log.userId as user_id\n",
    "          ,log.level \n",
    "          ,log.sessionId as session_id\n",
    "          ,log.location\n",
    "          ,log.userAgent as user_agent\n",
    "    from stg_event_raw as log\n",
    "    where page = 'NextSong'\n",
    "\"\"\").limit(5).toPandas()"
   ]
  },
  {
   "cell_type": "code",
   "execution_count": null,
   "metadata": {},
   "outputs": [],
   "source": []
  },
  {
   "cell_type": "code",
   "execution_count": 93,
   "metadata": {},
   "outputs": [],
   "source": [
    "songplays_tbl = spark.sql(\"\"\"\n",
    "    select monotonically_increasing_id() as songplay_id\n",
    "          ,to_timestamp(log.ts/1000) as start_time\n",
    "          ,log.userId as user_id\n",
    "          ,log.level \n",
    "          ,song.song_id\n",
    "          ,song.artist_id\n",
    "          ,log.sessionId as session_id\n",
    "          ,log.location\n",
    "          ,log.userAgent as user_agent\n",
    "    from stg_event_raw as log\n",
    "    join stg_song_raw as song\n",
    "        on log.artist = song.artist_name\n",
    "        and log.song = song.title\n",
    "    where page = 'NextSong'\n",
    "\"\"\")"
   ]
  },
  {
   "cell_type": "code",
   "execution_count": 94,
   "metadata": {},
   "outputs": [
    {
     "data": {
      "text/html": [
       "<div>\n",
       "<style scoped>\n",
       "    .dataframe tbody tr th:only-of-type {\n",
       "        vertical-align: middle;\n",
       "    }\n",
       "\n",
       "    .dataframe tbody tr th {\n",
       "        vertical-align: top;\n",
       "    }\n",
       "\n",
       "    .dataframe thead th {\n",
       "        text-align: right;\n",
       "    }\n",
       "</style>\n",
       "<table border=\"1\" class=\"dataframe\">\n",
       "  <thead>\n",
       "    <tr style=\"text-align: right;\">\n",
       "      <th></th>\n",
       "      <th>songplay_id</th>\n",
       "      <th>start_time</th>\n",
       "      <th>user_id</th>\n",
       "      <th>level</th>\n",
       "      <th>song_id</th>\n",
       "      <th>artist_id</th>\n",
       "      <th>session_id</th>\n",
       "      <th>location</th>\n",
       "      <th>user_agent</th>\n",
       "    </tr>\n",
       "  </thead>\n",
       "  <tbody>\n",
       "  </tbody>\n",
       "</table>\n",
       "</div>"
      ],
      "text/plain": [
       "Empty DataFrame\n",
       "Columns: [songplay_id, start_time, user_id, level, song_id, artist_id, session_id, location, user_agent]\n",
       "Index: []"
      ]
     },
     "execution_count": 94,
     "metadata": {},
     "output_type": "execute_result"
    }
   ],
   "source": [
    "songplays_tbl.limit(5).toPandas()"
   ]
  },
  {
   "cell_type": "code",
   "execution_count": null,
   "metadata": {},
   "outputs": [],
   "source": []
  },
  {
   "cell_type": "code",
   "execution_count": null,
   "metadata": {},
   "outputs": [],
   "source": []
  },
  {
   "cell_type": "markdown",
   "metadata": {},
   "source": [
    "# Write Output"
   ]
  },
  {
   "cell_type": "code",
   "execution_count": 95,
   "metadata": {},
   "outputs": [],
   "source": [
    "# test"
   ]
  },
  {
   "cell_type": "code",
   "execution_count": 96,
   "metadata": {},
   "outputs": [],
   "source": [
    "time_tbl.write.mode(\"overwrite\").parquet(\"./songs_table.parquet/\")"
   ]
  },
  {
   "cell_type": "code",
   "execution_count": 98,
   "metadata": {},
   "outputs": [
    {
     "data": {
      "text/plain": [
       "['.part-00000-09a632c3-cb32-4cbc-82f4-616450c691db-c000.snappy.parquet.crc',\n",
       " '.part-00002-09a632c3-cb32-4cbc-82f4-616450c691db-c000.snappy.parquet.crc',\n",
       " '.part-00006-09a632c3-cb32-4cbc-82f4-616450c691db-c000.snappy.parquet.crc',\n",
       " '.part-00007-09a632c3-cb32-4cbc-82f4-616450c691db-c000.snappy.parquet.crc',\n",
       " '.part-00009-09a632c3-cb32-4cbc-82f4-616450c691db-c000.snappy.parquet.crc',\n",
       " '.part-00010-09a632c3-cb32-4cbc-82f4-616450c691db-c000.snappy.parquet.crc',\n",
       " '.part-00011-09a632c3-cb32-4cbc-82f4-616450c691db-c000.snappy.parquet.crc',\n",
       " '.part-00012-09a632c3-cb32-4cbc-82f4-616450c691db-c000.snappy.parquet.crc',\n",
       " '.part-00013-09a632c3-cb32-4cbc-82f4-616450c691db-c000.snappy.parquet.crc',\n",
       " '.part-00014-09a632c3-cb32-4cbc-82f4-616450c691db-c000.snappy.parquet.crc',\n",
       " '.part-00015-09a632c3-cb32-4cbc-82f4-616450c691db-c000.snappy.parquet.crc',\n",
       " '.part-00016-09a632c3-cb32-4cbc-82f4-616450c691db-c000.snappy.parquet.crc',\n",
       " '.part-00017-09a632c3-cb32-4cbc-82f4-616450c691db-c000.snappy.parquet.crc',\n",
       " '.part-00020-09a632c3-cb32-4cbc-82f4-616450c691db-c000.snappy.parquet.crc',\n",
       " '.part-00022-09a632c3-cb32-4cbc-82f4-616450c691db-c000.snappy.parquet.crc',\n",
       " '.part-00023-09a632c3-cb32-4cbc-82f4-616450c691db-c000.snappy.parquet.crc',\n",
       " '.part-00024-09a632c3-cb32-4cbc-82f4-616450c691db-c000.snappy.parquet.crc',\n",
       " '.part-00025-09a632c3-cb32-4cbc-82f4-616450c691db-c000.snappy.parquet.crc',\n",
       " '.part-00027-09a632c3-cb32-4cbc-82f4-616450c691db-c000.snappy.parquet.crc',\n",
       " '.part-00031-09a632c3-cb32-4cbc-82f4-616450c691db-c000.snappy.parquet.crc',\n",
       " '.part-00032-09a632c3-cb32-4cbc-82f4-616450c691db-c000.snappy.parquet.crc',\n",
       " '.part-00033-09a632c3-cb32-4cbc-82f4-616450c691db-c000.snappy.parquet.crc',\n",
       " '.part-00034-09a632c3-cb32-4cbc-82f4-616450c691db-c000.snappy.parquet.crc',\n",
       " '.part-00035-09a632c3-cb32-4cbc-82f4-616450c691db-c000.snappy.parquet.crc',\n",
       " '.part-00039-09a632c3-cb32-4cbc-82f4-616450c691db-c000.snappy.parquet.crc',\n",
       " '.part-00040-09a632c3-cb32-4cbc-82f4-616450c691db-c000.snappy.parquet.crc',\n",
       " '.part-00041-09a632c3-cb32-4cbc-82f4-616450c691db-c000.snappy.parquet.crc',\n",
       " '.part-00043-09a632c3-cb32-4cbc-82f4-616450c691db-c000.snappy.parquet.crc',\n",
       " '.part-00044-09a632c3-cb32-4cbc-82f4-616450c691db-c000.snappy.parquet.crc',\n",
       " '.part-00045-09a632c3-cb32-4cbc-82f4-616450c691db-c000.snappy.parquet.crc',\n",
       " '.part-00046-09a632c3-cb32-4cbc-82f4-616450c691db-c000.snappy.parquet.crc',\n",
       " '.part-00048-09a632c3-cb32-4cbc-82f4-616450c691db-c000.snappy.parquet.crc',\n",
       " '.part-00050-09a632c3-cb32-4cbc-82f4-616450c691db-c000.snappy.parquet.crc',\n",
       " '.part-00051-09a632c3-cb32-4cbc-82f4-616450c691db-c000.snappy.parquet.crc',\n",
       " '.part-00052-09a632c3-cb32-4cbc-82f4-616450c691db-c000.snappy.parquet.crc',\n",
       " '.part-00053-09a632c3-cb32-4cbc-82f4-616450c691db-c000.snappy.parquet.crc',\n",
       " '.part-00054-09a632c3-cb32-4cbc-82f4-616450c691db-c000.snappy.parquet.crc',\n",
       " '.part-00055-09a632c3-cb32-4cbc-82f4-616450c691db-c000.snappy.parquet.crc',\n",
       " '.part-00057-09a632c3-cb32-4cbc-82f4-616450c691db-c000.snappy.parquet.crc',\n",
       " '.part-00058-09a632c3-cb32-4cbc-82f4-616450c691db-c000.snappy.parquet.crc',\n",
       " '.part-00059-09a632c3-cb32-4cbc-82f4-616450c691db-c000.snappy.parquet.crc',\n",
       " '.part-00060-09a632c3-cb32-4cbc-82f4-616450c691db-c000.snappy.parquet.crc',\n",
       " '.part-00061-09a632c3-cb32-4cbc-82f4-616450c691db-c000.snappy.parquet.crc',\n",
       " '.part-00062-09a632c3-cb32-4cbc-82f4-616450c691db-c000.snappy.parquet.crc',\n",
       " '.part-00063-09a632c3-cb32-4cbc-82f4-616450c691db-c000.snappy.parquet.crc',\n",
       " '.part-00064-09a632c3-cb32-4cbc-82f4-616450c691db-c000.snappy.parquet.crc',\n",
       " '.part-00065-09a632c3-cb32-4cbc-82f4-616450c691db-c000.snappy.parquet.crc',\n",
       " '.part-00066-09a632c3-cb32-4cbc-82f4-616450c691db-c000.snappy.parquet.crc',\n",
       " '.part-00069-09a632c3-cb32-4cbc-82f4-616450c691db-c000.snappy.parquet.crc',\n",
       " '.part-00070-09a632c3-cb32-4cbc-82f4-616450c691db-c000.snappy.parquet.crc',\n",
       " '.part-00072-09a632c3-cb32-4cbc-82f4-616450c691db-c000.snappy.parquet.crc',\n",
       " '.part-00074-09a632c3-cb32-4cbc-82f4-616450c691db-c000.snappy.parquet.crc',\n",
       " '.part-00075-09a632c3-cb32-4cbc-82f4-616450c691db-c000.snappy.parquet.crc',\n",
       " '.part-00077-09a632c3-cb32-4cbc-82f4-616450c691db-c000.snappy.parquet.crc',\n",
       " '.part-00078-09a632c3-cb32-4cbc-82f4-616450c691db-c000.snappy.parquet.crc',\n",
       " '.part-00080-09a632c3-cb32-4cbc-82f4-616450c691db-c000.snappy.parquet.crc',\n",
       " '.part-00081-09a632c3-cb32-4cbc-82f4-616450c691db-c000.snappy.parquet.crc',\n",
       " '.part-00082-09a632c3-cb32-4cbc-82f4-616450c691db-c000.snappy.parquet.crc',\n",
       " '.part-00083-09a632c3-cb32-4cbc-82f4-616450c691db-c000.snappy.parquet.crc',\n",
       " '.part-00086-09a632c3-cb32-4cbc-82f4-616450c691db-c000.snappy.parquet.crc',\n",
       " '.part-00087-09a632c3-cb32-4cbc-82f4-616450c691db-c000.snappy.parquet.crc',\n",
       " '.part-00088-09a632c3-cb32-4cbc-82f4-616450c691db-c000.snappy.parquet.crc',\n",
       " '.part-00090-09a632c3-cb32-4cbc-82f4-616450c691db-c000.snappy.parquet.crc',\n",
       " '.part-00091-09a632c3-cb32-4cbc-82f4-616450c691db-c000.snappy.parquet.crc',\n",
       " '.part-00093-09a632c3-cb32-4cbc-82f4-616450c691db-c000.snappy.parquet.crc',\n",
       " '.part-00097-09a632c3-cb32-4cbc-82f4-616450c691db-c000.snappy.parquet.crc',\n",
       " '.part-00099-09a632c3-cb32-4cbc-82f4-616450c691db-c000.snappy.parquet.crc',\n",
       " '.part-00101-09a632c3-cb32-4cbc-82f4-616450c691db-c000.snappy.parquet.crc',\n",
       " '.part-00102-09a632c3-cb32-4cbc-82f4-616450c691db-c000.snappy.parquet.crc',\n",
       " '.part-00103-09a632c3-cb32-4cbc-82f4-616450c691db-c000.snappy.parquet.crc',\n",
       " '.part-00104-09a632c3-cb32-4cbc-82f4-616450c691db-c000.snappy.parquet.crc',\n",
       " '.part-00105-09a632c3-cb32-4cbc-82f4-616450c691db-c000.snappy.parquet.crc',\n",
       " '.part-00107-09a632c3-cb32-4cbc-82f4-616450c691db-c000.snappy.parquet.crc',\n",
       " '.part-00108-09a632c3-cb32-4cbc-82f4-616450c691db-c000.snappy.parquet.crc',\n",
       " '.part-00109-09a632c3-cb32-4cbc-82f4-616450c691db-c000.snappy.parquet.crc',\n",
       " '.part-00110-09a632c3-cb32-4cbc-82f4-616450c691db-c000.snappy.parquet.crc',\n",
       " '.part-00112-09a632c3-cb32-4cbc-82f4-616450c691db-c000.snappy.parquet.crc',\n",
       " '.part-00114-09a632c3-cb32-4cbc-82f4-616450c691db-c000.snappy.parquet.crc',\n",
       " '.part-00115-09a632c3-cb32-4cbc-82f4-616450c691db-c000.snappy.parquet.crc',\n",
       " '.part-00117-09a632c3-cb32-4cbc-82f4-616450c691db-c000.snappy.parquet.crc',\n",
       " '.part-00118-09a632c3-cb32-4cbc-82f4-616450c691db-c000.snappy.parquet.crc',\n",
       " '.part-00119-09a632c3-cb32-4cbc-82f4-616450c691db-c000.snappy.parquet.crc',\n",
       " '.part-00121-09a632c3-cb32-4cbc-82f4-616450c691db-c000.snappy.parquet.crc',\n",
       " '.part-00122-09a632c3-cb32-4cbc-82f4-616450c691db-c000.snappy.parquet.crc',\n",
       " '.part-00123-09a632c3-cb32-4cbc-82f4-616450c691db-c000.snappy.parquet.crc',\n",
       " '.part-00127-09a632c3-cb32-4cbc-82f4-616450c691db-c000.snappy.parquet.crc',\n",
       " '.part-00129-09a632c3-cb32-4cbc-82f4-616450c691db-c000.snappy.parquet.crc',\n",
       " '.part-00130-09a632c3-cb32-4cbc-82f4-616450c691db-c000.snappy.parquet.crc',\n",
       " '.part-00131-09a632c3-cb32-4cbc-82f4-616450c691db-c000.snappy.parquet.crc',\n",
       " '.part-00133-09a632c3-cb32-4cbc-82f4-616450c691db-c000.snappy.parquet.crc',\n",
       " '.part-00135-09a632c3-cb32-4cbc-82f4-616450c691db-c000.snappy.parquet.crc',\n",
       " '.part-00136-09a632c3-cb32-4cbc-82f4-616450c691db-c000.snappy.parquet.crc',\n",
       " '.part-00140-09a632c3-cb32-4cbc-82f4-616450c691db-c000.snappy.parquet.crc',\n",
       " '.part-00142-09a632c3-cb32-4cbc-82f4-616450c691db-c000.snappy.parquet.crc',\n",
       " '.part-00143-09a632c3-cb32-4cbc-82f4-616450c691db-c000.snappy.parquet.crc',\n",
       " '.part-00144-09a632c3-cb32-4cbc-82f4-616450c691db-c000.snappy.parquet.crc',\n",
       " '.part-00145-09a632c3-cb32-4cbc-82f4-616450c691db-c000.snappy.parquet.crc',\n",
       " '.part-00146-09a632c3-cb32-4cbc-82f4-616450c691db-c000.snappy.parquet.crc',\n",
       " '.part-00148-09a632c3-cb32-4cbc-82f4-616450c691db-c000.snappy.parquet.crc',\n",
       " '.part-00150-09a632c3-cb32-4cbc-82f4-616450c691db-c000.snappy.parquet.crc',\n",
       " '.part-00152-09a632c3-cb32-4cbc-82f4-616450c691db-c000.snappy.parquet.crc',\n",
       " '.part-00153-09a632c3-cb32-4cbc-82f4-616450c691db-c000.snappy.parquet.crc',\n",
       " '.part-00154-09a632c3-cb32-4cbc-82f4-616450c691db-c000.snappy.parquet.crc',\n",
       " '.part-00155-09a632c3-cb32-4cbc-82f4-616450c691db-c000.snappy.parquet.crc',\n",
       " '.part-00156-09a632c3-cb32-4cbc-82f4-616450c691db-c000.snappy.parquet.crc',\n",
       " '.part-00157-09a632c3-cb32-4cbc-82f4-616450c691db-c000.snappy.parquet.crc',\n",
       " '.part-00158-09a632c3-cb32-4cbc-82f4-616450c691db-c000.snappy.parquet.crc',\n",
       " '.part-00161-09a632c3-cb32-4cbc-82f4-616450c691db-c000.snappy.parquet.crc',\n",
       " '.part-00162-09a632c3-cb32-4cbc-82f4-616450c691db-c000.snappy.parquet.crc',\n",
       " '.part-00165-09a632c3-cb32-4cbc-82f4-616450c691db-c000.snappy.parquet.crc',\n",
       " '.part-00166-09a632c3-cb32-4cbc-82f4-616450c691db-c000.snappy.parquet.crc',\n",
       " '.part-00168-09a632c3-cb32-4cbc-82f4-616450c691db-c000.snappy.parquet.crc',\n",
       " '.part-00169-09a632c3-cb32-4cbc-82f4-616450c691db-c000.snappy.parquet.crc',\n",
       " '.part-00171-09a632c3-cb32-4cbc-82f4-616450c691db-c000.snappy.parquet.crc',\n",
       " '.part-00173-09a632c3-cb32-4cbc-82f4-616450c691db-c000.snappy.parquet.crc',\n",
       " '.part-00174-09a632c3-cb32-4cbc-82f4-616450c691db-c000.snappy.parquet.crc',\n",
       " '.part-00176-09a632c3-cb32-4cbc-82f4-616450c691db-c000.snappy.parquet.crc',\n",
       " '.part-00179-09a632c3-cb32-4cbc-82f4-616450c691db-c000.snappy.parquet.crc',\n",
       " '.part-00180-09a632c3-cb32-4cbc-82f4-616450c691db-c000.snappy.parquet.crc',\n",
       " '.part-00181-09a632c3-cb32-4cbc-82f4-616450c691db-c000.snappy.parquet.crc',\n",
       " '.part-00182-09a632c3-cb32-4cbc-82f4-616450c691db-c000.snappy.parquet.crc',\n",
       " '.part-00183-09a632c3-cb32-4cbc-82f4-616450c691db-c000.snappy.parquet.crc',\n",
       " '.part-00185-09a632c3-cb32-4cbc-82f4-616450c691db-c000.snappy.parquet.crc',\n",
       " '.part-00186-09a632c3-cb32-4cbc-82f4-616450c691db-c000.snappy.parquet.crc',\n",
       " '.part-00188-09a632c3-cb32-4cbc-82f4-616450c691db-c000.snappy.parquet.crc',\n",
       " '.part-00190-09a632c3-cb32-4cbc-82f4-616450c691db-c000.snappy.parquet.crc',\n",
       " '.part-00193-09a632c3-cb32-4cbc-82f4-616450c691db-c000.snappy.parquet.crc',\n",
       " '.part-00194-09a632c3-cb32-4cbc-82f4-616450c691db-c000.snappy.parquet.crc',\n",
       " '.part-00197-09a632c3-cb32-4cbc-82f4-616450c691db-c000.snappy.parquet.crc',\n",
       " '.part-00198-09a632c3-cb32-4cbc-82f4-616450c691db-c000.snappy.parquet.crc',\n",
       " '.part-00199-09a632c3-cb32-4cbc-82f4-616450c691db-c000.snappy.parquet.crc',\n",
       " '._SUCCESS.crc',\n",
       " 'part-00000-09a632c3-cb32-4cbc-82f4-616450c691db-c000.snappy.parquet',\n",
       " 'part-00002-09a632c3-cb32-4cbc-82f4-616450c691db-c000.snappy.parquet',\n",
       " 'part-00006-09a632c3-cb32-4cbc-82f4-616450c691db-c000.snappy.parquet',\n",
       " 'part-00007-09a632c3-cb32-4cbc-82f4-616450c691db-c000.snappy.parquet',\n",
       " 'part-00009-09a632c3-cb32-4cbc-82f4-616450c691db-c000.snappy.parquet',\n",
       " 'part-00010-09a632c3-cb32-4cbc-82f4-616450c691db-c000.snappy.parquet',\n",
       " 'part-00011-09a632c3-cb32-4cbc-82f4-616450c691db-c000.snappy.parquet',\n",
       " 'part-00012-09a632c3-cb32-4cbc-82f4-616450c691db-c000.snappy.parquet',\n",
       " 'part-00013-09a632c3-cb32-4cbc-82f4-616450c691db-c000.snappy.parquet',\n",
       " 'part-00014-09a632c3-cb32-4cbc-82f4-616450c691db-c000.snappy.parquet',\n",
       " 'part-00015-09a632c3-cb32-4cbc-82f4-616450c691db-c000.snappy.parquet',\n",
       " 'part-00016-09a632c3-cb32-4cbc-82f4-616450c691db-c000.snappy.parquet',\n",
       " 'part-00017-09a632c3-cb32-4cbc-82f4-616450c691db-c000.snappy.parquet',\n",
       " 'part-00020-09a632c3-cb32-4cbc-82f4-616450c691db-c000.snappy.parquet',\n",
       " 'part-00022-09a632c3-cb32-4cbc-82f4-616450c691db-c000.snappy.parquet',\n",
       " 'part-00023-09a632c3-cb32-4cbc-82f4-616450c691db-c000.snappy.parquet',\n",
       " 'part-00024-09a632c3-cb32-4cbc-82f4-616450c691db-c000.snappy.parquet',\n",
       " 'part-00025-09a632c3-cb32-4cbc-82f4-616450c691db-c000.snappy.parquet',\n",
       " 'part-00027-09a632c3-cb32-4cbc-82f4-616450c691db-c000.snappy.parquet',\n",
       " 'part-00031-09a632c3-cb32-4cbc-82f4-616450c691db-c000.snappy.parquet',\n",
       " 'part-00032-09a632c3-cb32-4cbc-82f4-616450c691db-c000.snappy.parquet',\n",
       " 'part-00033-09a632c3-cb32-4cbc-82f4-616450c691db-c000.snappy.parquet',\n",
       " 'part-00034-09a632c3-cb32-4cbc-82f4-616450c691db-c000.snappy.parquet',\n",
       " 'part-00035-09a632c3-cb32-4cbc-82f4-616450c691db-c000.snappy.parquet',\n",
       " 'part-00039-09a632c3-cb32-4cbc-82f4-616450c691db-c000.snappy.parquet',\n",
       " 'part-00040-09a632c3-cb32-4cbc-82f4-616450c691db-c000.snappy.parquet',\n",
       " 'part-00041-09a632c3-cb32-4cbc-82f4-616450c691db-c000.snappy.parquet',\n",
       " 'part-00043-09a632c3-cb32-4cbc-82f4-616450c691db-c000.snappy.parquet',\n",
       " 'part-00044-09a632c3-cb32-4cbc-82f4-616450c691db-c000.snappy.parquet',\n",
       " 'part-00045-09a632c3-cb32-4cbc-82f4-616450c691db-c000.snappy.parquet',\n",
       " 'part-00046-09a632c3-cb32-4cbc-82f4-616450c691db-c000.snappy.parquet',\n",
       " 'part-00048-09a632c3-cb32-4cbc-82f4-616450c691db-c000.snappy.parquet',\n",
       " 'part-00050-09a632c3-cb32-4cbc-82f4-616450c691db-c000.snappy.parquet',\n",
       " 'part-00051-09a632c3-cb32-4cbc-82f4-616450c691db-c000.snappy.parquet',\n",
       " 'part-00052-09a632c3-cb32-4cbc-82f4-616450c691db-c000.snappy.parquet',\n",
       " 'part-00053-09a632c3-cb32-4cbc-82f4-616450c691db-c000.snappy.parquet',\n",
       " 'part-00054-09a632c3-cb32-4cbc-82f4-616450c691db-c000.snappy.parquet',\n",
       " 'part-00055-09a632c3-cb32-4cbc-82f4-616450c691db-c000.snappy.parquet',\n",
       " 'part-00057-09a632c3-cb32-4cbc-82f4-616450c691db-c000.snappy.parquet',\n",
       " 'part-00058-09a632c3-cb32-4cbc-82f4-616450c691db-c000.snappy.parquet',\n",
       " 'part-00059-09a632c3-cb32-4cbc-82f4-616450c691db-c000.snappy.parquet',\n",
       " 'part-00060-09a632c3-cb32-4cbc-82f4-616450c691db-c000.snappy.parquet',\n",
       " 'part-00061-09a632c3-cb32-4cbc-82f4-616450c691db-c000.snappy.parquet',\n",
       " 'part-00062-09a632c3-cb32-4cbc-82f4-616450c691db-c000.snappy.parquet',\n",
       " 'part-00063-09a632c3-cb32-4cbc-82f4-616450c691db-c000.snappy.parquet',\n",
       " 'part-00064-09a632c3-cb32-4cbc-82f4-616450c691db-c000.snappy.parquet',\n",
       " 'part-00065-09a632c3-cb32-4cbc-82f4-616450c691db-c000.snappy.parquet',\n",
       " 'part-00066-09a632c3-cb32-4cbc-82f4-616450c691db-c000.snappy.parquet',\n",
       " 'part-00069-09a632c3-cb32-4cbc-82f4-616450c691db-c000.snappy.parquet',\n",
       " 'part-00070-09a632c3-cb32-4cbc-82f4-616450c691db-c000.snappy.parquet',\n",
       " 'part-00072-09a632c3-cb32-4cbc-82f4-616450c691db-c000.snappy.parquet',\n",
       " 'part-00074-09a632c3-cb32-4cbc-82f4-616450c691db-c000.snappy.parquet',\n",
       " 'part-00075-09a632c3-cb32-4cbc-82f4-616450c691db-c000.snappy.parquet',\n",
       " 'part-00077-09a632c3-cb32-4cbc-82f4-616450c691db-c000.snappy.parquet',\n",
       " 'part-00078-09a632c3-cb32-4cbc-82f4-616450c691db-c000.snappy.parquet',\n",
       " 'part-00080-09a632c3-cb32-4cbc-82f4-616450c691db-c000.snappy.parquet',\n",
       " 'part-00081-09a632c3-cb32-4cbc-82f4-616450c691db-c000.snappy.parquet',\n",
       " 'part-00082-09a632c3-cb32-4cbc-82f4-616450c691db-c000.snappy.parquet',\n",
       " 'part-00083-09a632c3-cb32-4cbc-82f4-616450c691db-c000.snappy.parquet',\n",
       " 'part-00086-09a632c3-cb32-4cbc-82f4-616450c691db-c000.snappy.parquet',\n",
       " 'part-00087-09a632c3-cb32-4cbc-82f4-616450c691db-c000.snappy.parquet',\n",
       " 'part-00088-09a632c3-cb32-4cbc-82f4-616450c691db-c000.snappy.parquet',\n",
       " 'part-00090-09a632c3-cb32-4cbc-82f4-616450c691db-c000.snappy.parquet',\n",
       " 'part-00091-09a632c3-cb32-4cbc-82f4-616450c691db-c000.snappy.parquet',\n",
       " 'part-00093-09a632c3-cb32-4cbc-82f4-616450c691db-c000.snappy.parquet',\n",
       " 'part-00097-09a632c3-cb32-4cbc-82f4-616450c691db-c000.snappy.parquet',\n",
       " 'part-00099-09a632c3-cb32-4cbc-82f4-616450c691db-c000.snappy.parquet',\n",
       " 'part-00101-09a632c3-cb32-4cbc-82f4-616450c691db-c000.snappy.parquet',\n",
       " 'part-00102-09a632c3-cb32-4cbc-82f4-616450c691db-c000.snappy.parquet',\n",
       " 'part-00103-09a632c3-cb32-4cbc-82f4-616450c691db-c000.snappy.parquet',\n",
       " 'part-00104-09a632c3-cb32-4cbc-82f4-616450c691db-c000.snappy.parquet',\n",
       " 'part-00105-09a632c3-cb32-4cbc-82f4-616450c691db-c000.snappy.parquet',\n",
       " 'part-00107-09a632c3-cb32-4cbc-82f4-616450c691db-c000.snappy.parquet',\n",
       " 'part-00108-09a632c3-cb32-4cbc-82f4-616450c691db-c000.snappy.parquet',\n",
       " 'part-00109-09a632c3-cb32-4cbc-82f4-616450c691db-c000.snappy.parquet',\n",
       " 'part-00110-09a632c3-cb32-4cbc-82f4-616450c691db-c000.snappy.parquet',\n",
       " 'part-00112-09a632c3-cb32-4cbc-82f4-616450c691db-c000.snappy.parquet',\n",
       " 'part-00114-09a632c3-cb32-4cbc-82f4-616450c691db-c000.snappy.parquet',\n",
       " 'part-00115-09a632c3-cb32-4cbc-82f4-616450c691db-c000.snappy.parquet',\n",
       " 'part-00117-09a632c3-cb32-4cbc-82f4-616450c691db-c000.snappy.parquet',\n",
       " 'part-00118-09a632c3-cb32-4cbc-82f4-616450c691db-c000.snappy.parquet',\n",
       " 'part-00119-09a632c3-cb32-4cbc-82f4-616450c691db-c000.snappy.parquet',\n",
       " 'part-00121-09a632c3-cb32-4cbc-82f4-616450c691db-c000.snappy.parquet',\n",
       " 'part-00122-09a632c3-cb32-4cbc-82f4-616450c691db-c000.snappy.parquet',\n",
       " 'part-00123-09a632c3-cb32-4cbc-82f4-616450c691db-c000.snappy.parquet',\n",
       " 'part-00127-09a632c3-cb32-4cbc-82f4-616450c691db-c000.snappy.parquet',\n",
       " 'part-00129-09a632c3-cb32-4cbc-82f4-616450c691db-c000.snappy.parquet',\n",
       " 'part-00130-09a632c3-cb32-4cbc-82f4-616450c691db-c000.snappy.parquet',\n",
       " 'part-00131-09a632c3-cb32-4cbc-82f4-616450c691db-c000.snappy.parquet',\n",
       " 'part-00133-09a632c3-cb32-4cbc-82f4-616450c691db-c000.snappy.parquet',\n",
       " 'part-00135-09a632c3-cb32-4cbc-82f4-616450c691db-c000.snappy.parquet',\n",
       " 'part-00136-09a632c3-cb32-4cbc-82f4-616450c691db-c000.snappy.parquet',\n",
       " 'part-00140-09a632c3-cb32-4cbc-82f4-616450c691db-c000.snappy.parquet',\n",
       " 'part-00142-09a632c3-cb32-4cbc-82f4-616450c691db-c000.snappy.parquet',\n",
       " 'part-00143-09a632c3-cb32-4cbc-82f4-616450c691db-c000.snappy.parquet',\n",
       " 'part-00144-09a632c3-cb32-4cbc-82f4-616450c691db-c000.snappy.parquet',\n",
       " 'part-00145-09a632c3-cb32-4cbc-82f4-616450c691db-c000.snappy.parquet',\n",
       " 'part-00146-09a632c3-cb32-4cbc-82f4-616450c691db-c000.snappy.parquet',\n",
       " 'part-00148-09a632c3-cb32-4cbc-82f4-616450c691db-c000.snappy.parquet',\n",
       " 'part-00150-09a632c3-cb32-4cbc-82f4-616450c691db-c000.snappy.parquet',\n",
       " 'part-00152-09a632c3-cb32-4cbc-82f4-616450c691db-c000.snappy.parquet',\n",
       " 'part-00153-09a632c3-cb32-4cbc-82f4-616450c691db-c000.snappy.parquet',\n",
       " 'part-00154-09a632c3-cb32-4cbc-82f4-616450c691db-c000.snappy.parquet',\n",
       " 'part-00155-09a632c3-cb32-4cbc-82f4-616450c691db-c000.snappy.parquet',\n",
       " 'part-00156-09a632c3-cb32-4cbc-82f4-616450c691db-c000.snappy.parquet',\n",
       " 'part-00157-09a632c3-cb32-4cbc-82f4-616450c691db-c000.snappy.parquet',\n",
       " 'part-00158-09a632c3-cb32-4cbc-82f4-616450c691db-c000.snappy.parquet',\n",
       " 'part-00161-09a632c3-cb32-4cbc-82f4-616450c691db-c000.snappy.parquet',\n",
       " 'part-00162-09a632c3-cb32-4cbc-82f4-616450c691db-c000.snappy.parquet',\n",
       " 'part-00165-09a632c3-cb32-4cbc-82f4-616450c691db-c000.snappy.parquet',\n",
       " 'part-00166-09a632c3-cb32-4cbc-82f4-616450c691db-c000.snappy.parquet',\n",
       " 'part-00168-09a632c3-cb32-4cbc-82f4-616450c691db-c000.snappy.parquet',\n",
       " 'part-00169-09a632c3-cb32-4cbc-82f4-616450c691db-c000.snappy.parquet',\n",
       " 'part-00171-09a632c3-cb32-4cbc-82f4-616450c691db-c000.snappy.parquet',\n",
       " 'part-00173-09a632c3-cb32-4cbc-82f4-616450c691db-c000.snappy.parquet',\n",
       " 'part-00174-09a632c3-cb32-4cbc-82f4-616450c691db-c000.snappy.parquet',\n",
       " 'part-00176-09a632c3-cb32-4cbc-82f4-616450c691db-c000.snappy.parquet',\n",
       " 'part-00179-09a632c3-cb32-4cbc-82f4-616450c691db-c000.snappy.parquet',\n",
       " 'part-00180-09a632c3-cb32-4cbc-82f4-616450c691db-c000.snappy.parquet',\n",
       " 'part-00181-09a632c3-cb32-4cbc-82f4-616450c691db-c000.snappy.parquet',\n",
       " 'part-00182-09a632c3-cb32-4cbc-82f4-616450c691db-c000.snappy.parquet',\n",
       " 'part-00183-09a632c3-cb32-4cbc-82f4-616450c691db-c000.snappy.parquet',\n",
       " 'part-00185-09a632c3-cb32-4cbc-82f4-616450c691db-c000.snappy.parquet',\n",
       " 'part-00186-09a632c3-cb32-4cbc-82f4-616450c691db-c000.snappy.parquet',\n",
       " 'part-00188-09a632c3-cb32-4cbc-82f4-616450c691db-c000.snappy.parquet',\n",
       " 'part-00190-09a632c3-cb32-4cbc-82f4-616450c691db-c000.snappy.parquet',\n",
       " 'part-00193-09a632c3-cb32-4cbc-82f4-616450c691db-c000.snappy.parquet',\n",
       " 'part-00194-09a632c3-cb32-4cbc-82f4-616450c691db-c000.snappy.parquet',\n",
       " 'part-00197-09a632c3-cb32-4cbc-82f4-616450c691db-c000.snappy.parquet',\n",
       " 'part-00198-09a632c3-cb32-4cbc-82f4-616450c691db-c000.snappy.parquet',\n",
       " 'part-00199-09a632c3-cb32-4cbc-82f4-616450c691db-c000.snappy.parquet',\n",
       " '_SUCCESS']"
      ]
     },
     "execution_count": 98,
     "metadata": {},
     "output_type": "execute_result"
    }
   ],
   "source": [
    "os.listdir(\"songs_table.parquet/\")"
   ]
  },
  {
   "cell_type": "code",
   "execution_count": null,
   "metadata": {},
   "outputs": [],
   "source": []
  }
 ],
 "metadata": {
  "kernelspec": {
   "display_name": "Python 3",
   "language": "python",
   "name": "python3"
  },
  "language_info": {
   "codemirror_mode": {
    "name": "ipython",
    "version": 3
   },
   "file_extension": ".py",
   "mimetype": "text/x-python",
   "name": "python",
   "nbconvert_exporter": "python",
   "pygments_lexer": "ipython3",
   "version": "3.7.3"
  }
 },
 "nbformat": 4,
 "nbformat_minor": 4
}
