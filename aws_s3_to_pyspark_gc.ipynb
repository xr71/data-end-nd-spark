{
  "nbformat": 4,
  "nbformat_minor": 0,
  "metadata": {
    "colab": {
      "name": "aws_s3_to_pyspark_gc.ipynb",
      "version": "0.3.2",
      "provenance": [],
      "collapsed_sections": []
    },
    "kernelspec": {
      "name": "python3",
      "display_name": "Python 3"
    }
  },
  "cells": [
    {
      "cell_type": "markdown",
      "metadata": {
        "id": "pQIr_YdIsByJ",
        "colab_type": "text"
      },
      "source": [
        "# Prototype S3 to Spark Datalake Project for Udacity Data Engineer ND"
      ]
    },
    {
      "cell_type": "code",
      "metadata": {
        "id": "FCVO7R4lLf9G",
        "colab_type": "code",
        "colab": {}
      },
      "source": [
        "!apt-get install openjdk-8-jdk-headless -qq > /dev/null\n",
        "!pip install -q findspark"
      ],
      "execution_count": 0,
      "outputs": []
    },
    {
      "cell_type": "code",
      "metadata": {
        "id": "1VaWd0_5Lkqw",
        "colab_type": "code",
        "colab": {}
      },
      "source": [
        "!wget -q http://www-us.apache.org/dist/spark/spark-2.4.3/spark-2.4.3-bin-hadoop2.7.tgz"
      ],
      "execution_count": 0,
      "outputs": []
    },
    {
      "cell_type": "code",
      "metadata": {
        "id": "s9slRHjiLlUP",
        "colab_type": "code",
        "colab": {}
      },
      "source": [
        "!tar xf spark-2.4.3-bin-hadoop2.7.tgz"
      ],
      "execution_count": 0,
      "outputs": []
    },
    {
      "cell_type": "code",
      "metadata": {
        "id": "VkfdzJFtrRpl",
        "colab_type": "code",
        "colab": {
          "base_uri": "https://localhost:8080/",
          "height": 105
        },
        "outputId": "94a77867-ccbf-4f82-b1c1-4276509bddcf"
      },
      "source": [
        "!pip install py4j"
      ],
      "execution_count": 4,
      "outputs": [
        {
          "output_type": "stream",
          "text": [
            "Collecting py4j\n",
            "\u001b[?25l  Downloading https://files.pythonhosted.org/packages/04/de/2d314a921ef4c20b283e1de94e0780273678caac901564df06b948e4ba9b/py4j-0.10.8.1-py2.py3-none-any.whl (196kB)\n",
            "\u001b[K     |████████████████████████████████| 204kB 2.8MB/s \n",
            "\u001b[?25hInstalling collected packages: py4j\n",
            "Successfully installed py4j-0.10.8.1\n"
          ],
          "name": "stdout"
        }
      ]
    },
    {
      "cell_type": "code",
      "metadata": {
        "id": "QteJk1nXrVPx",
        "colab_type": "code",
        "colab": {}
      },
      "source": [
        "import os"
      ],
      "execution_count": 0,
      "outputs": []
    },
    {
      "cell_type": "code",
      "metadata": {
        "id": "n7odGrMdrZq6",
        "colab_type": "code",
        "colab": {}
      },
      "source": [
        "os.environ[\"JAVA_HOME\"] = \"/usr/lib/jvm/java-8-openjdk-amd64/\"\n",
        "os.environ[\"SPARK_HOME\"] = \"/content/spark-2.4.3-bin-hadoop2.7/\""
      ],
      "execution_count": 0,
      "outputs": []
    },
    {
      "cell_type": "code",
      "metadata": {
        "id": "-II7GJK9reEs",
        "colab_type": "code",
        "colab": {}
      },
      "source": [
        "import findspark\n",
        "findspark.init()"
      ],
      "execution_count": 0,
      "outputs": []
    },
    {
      "cell_type": "code",
      "metadata": {
        "id": "3jxvAeA-rebv",
        "colab_type": "code",
        "colab": {}
      },
      "source": [
        "import pyspark\n",
        "from pyspark.sql import SparkSession\n",
        "\n",
        "import getpass"
      ],
      "execution_count": 0,
      "outputs": []
    },
    {
      "cell_type": "code",
      "metadata": {
        "id": "OX036X53uEaK",
        "colab_type": "code",
        "colab": {}
      },
      "source": [
        "from pyspark.sql.functions import udf\n",
        "import pyspark.sql.functions as F"
      ],
      "execution_count": 0,
      "outputs": []
    },
    {
      "cell_type": "code",
      "metadata": {
        "id": "1wvFXxj5ryL6",
        "colab_type": "code",
        "colab": {
          "base_uri": "https://localhost:8080/",
          "height": 52
        },
        "outputId": "9cf6bfc1-504e-4da2-c516-042ff00ffa21"
      },
      "source": [
        "aws_access_key = getpass.getpass()\n",
        "aws_secret_access_key = getpass.getpass()"
      ],
      "execution_count": 9,
      "outputs": [
        {
          "output_type": "stream",
          "text": [
            "··········\n",
            "··········\n"
          ],
          "name": "stdout"
        }
      ]
    },
    {
      "cell_type": "code",
      "metadata": {
        "id": "kV9ubLMPrnKg",
        "colab_type": "code",
        "colab": {}
      },
      "source": [
        "os.environ[\"AWS_ACCESS_KEY_ID\"] = aws_access_key\n",
        "os.environ[\"AWS_SECRET_ACCESS_KEY\"] = aws_secret_access_key"
      ],
      "execution_count": 0,
      "outputs": []
    },
    {
      "cell_type": "code",
      "metadata": {
        "id": "d7mLXP6nr5oC",
        "colab_type": "code",
        "colab": {}
      },
      "source": [
        "spark = SparkSession.builder\\\n",
        "                     .config(\"spark.jars.packages\",\"org.apache.hadoop:hadoop-aws:2.7.0\")\\\n",
        "                     .getOrCreate()"
      ],
      "execution_count": 0,
      "outputs": []
    },
    {
      "cell_type": "code",
      "metadata": {
        "id": "8iw01xs6r_nd",
        "colab_type": "code",
        "colab": {
          "base_uri": "https://localhost:8080/",
          "height": 216
        },
        "outputId": "056ecd6c-df32-4398-8472-958577b76676"
      },
      "source": [
        "spark"
      ],
      "execution_count": 12,
      "outputs": [
        {
          "output_type": "execute_result",
          "data": {
            "text/html": [
              "\n",
              "            <div>\n",
              "                <p><b>SparkSession - in-memory</b></p>\n",
              "                \n",
              "        <div>\n",
              "            <p><b>SparkContext</b></p>\n",
              "\n",
              "            <p><a href=\"http://65668e3a8fa1:4040\">Spark UI</a></p>\n",
              "\n",
              "            <dl>\n",
              "              <dt>Version</dt>\n",
              "                <dd><code>v2.4.3</code></dd>\n",
              "              <dt>Master</dt>\n",
              "                <dd><code>local[*]</code></dd>\n",
              "              <dt>AppName</dt>\n",
              "                <dd><code>pyspark-shell</code></dd>\n",
              "            </dl>\n",
              "        </div>\n",
              "        \n",
              "            </div>\n",
              "        "
            ],
            "text/plain": [
              "<pyspark.sql.session.SparkSession at 0x7ffb8f338ef0>"
            ]
          },
          "metadata": {
            "tags": []
          },
          "execution_count": 12
        }
      ]
    },
    {
      "cell_type": "markdown",
      "metadata": {
        "id": "pGRFNKuzsS5b",
        "colab_type": "text"
      },
      "source": [
        "## Read Song Data Files"
      ]
    },
    {
      "cell_type": "code",
      "metadata": {
        "id": "EkurDYT-sJme",
        "colab_type": "code",
        "colab": {}
      },
      "source": [
        "song_raw = spark.read.json(\"s3a://udacity-dend/song_data/A/A/A/*.json\")"
      ],
      "execution_count": 0,
      "outputs": []
    },
    {
      "cell_type": "code",
      "metadata": {
        "id": "_PhGKXoPsOPJ",
        "colab_type": "code",
        "colab": {
          "base_uri": "https://localhost:8080/",
          "height": 72
        },
        "outputId": "106284c1-0cc0-40e1-9468-c268a95e08b0"
      },
      "source": [
        "song_raw.take(2)"
      ],
      "execution_count": 14,
      "outputs": [
        {
          "output_type": "execute_result",
          "data": {
            "text/plain": [
              "[Row(artist_id='ARTC1LV1187B9A4858', artist_latitude=51.4536, artist_location=\"Goldsmith's College, Lewisham, Lo\", artist_longitude=-0.01802, artist_name='The Bonzo Dog Band', duration=301.40036, num_songs=1, song_id='SOAFBCP12A8C13CC7D', title='King Of Scurf (2007 Digital Remaster)', year=1972),\n",
              " Row(artist_id='ARA23XO1187B9AF18F', artist_latitude=40.57885, artist_location='Carteret, New Jersey', artist_longitude=-74.21956, artist_name='The Smithereens', duration=192.522, num_songs=1, song_id='SOKTJDS12AF72A25E5', title='Drown In My Own Tears (24-Bit Digitally Remastered 04)', year=0)]"
            ]
          },
          "metadata": {
            "tags": []
          },
          "execution_count": 14
        }
      ]
    },
    {
      "cell_type": "markdown",
      "metadata": {
        "id": "DGn6uOvesYRo",
        "colab_type": "text"
      },
      "source": [
        "## Read Events Data Files"
      ]
    },
    {
      "cell_type": "code",
      "metadata": {
        "id": "-ZywJWr7sVe0",
        "colab_type": "code",
        "colab": {}
      },
      "source": [
        "event_raw = spark.read.json(\"s3a://udacity-dend/log_data/2018/11/2018-11-12-events.json\")"
      ],
      "execution_count": 0,
      "outputs": []
    },
    {
      "cell_type": "code",
      "metadata": {
        "id": "giWY8cvvse69",
        "colab_type": "code",
        "colab": {
          "base_uri": "https://localhost:8080/",
          "height": 72
        },
        "outputId": "a193b755-8c70-449b-fbdc-e73a7d7639a5"
      },
      "source": [
        "event_raw.take(2)"
      ],
      "execution_count": 16,
      "outputs": [
        {
          "output_type": "execute_result",
          "data": {
            "text/plain": [
              "[Row(artist=None, auth='Logged In', firstName='Celeste', gender='F', itemInSession=0, lastName='Williams', length=None, level='free', location='Klamath Falls, OR', method='GET', page='Home', registration=1541077528796.0, sessionId=438, song=None, status=200, ts=1541990217796, userAgent='\"Mozilla/5.0 (Windows NT 6.1; WOW64) AppleWebKit/537.36 (KHTML, like Gecko) Chrome/37.0.2062.103 Safari/537.36\"', userId='53'),\n",
              " Row(artist='Pavement', auth='Logged In', firstName='Sylvie', gender='F', itemInSession=0, lastName='Cruz', length=99.16036, level='free', location='Washington-Arlington-Alexandria, DC-VA-MD-WV', method='PUT', page='NextSong', registration=1540266185796.0, sessionId=345, song='Mercy:The Laundromat', status=200, ts=1541990258796, userAgent='\"Mozilla/5.0 (Macintosh; Intel Mac OS X 10_9_4) AppleWebKit/537.77.4 (KHTML, like Gecko) Version/7.0.5 Safari/537.77.4\"', userId='10')]"
            ]
          },
          "metadata": {
            "tags": []
          },
          "execution_count": 16
        }
      ]
    },
    {
      "cell_type": "markdown",
      "metadata": {
        "id": "C8EK0teqtUKK",
        "colab_type": "text"
      },
      "source": [
        "### Set tables to Spark SQL"
      ]
    },
    {
      "cell_type": "code",
      "metadata": {
        "id": "jmKNPwZKtV-4",
        "colab_type": "code",
        "colab": {}
      },
      "source": [
        "event_raw.createOrReplaceTempView(\"stg_event_raw\")"
      ],
      "execution_count": 0,
      "outputs": []
    },
    {
      "cell_type": "code",
      "metadata": {
        "id": "9Viz7IzztVxB",
        "colab_type": "code",
        "colab": {}
      },
      "source": [
        "song_raw.createOrReplaceTempView(\"stg_song_raw\")"
      ],
      "execution_count": 0,
      "outputs": []
    },
    {
      "cell_type": "markdown",
      "metadata": {
        "id": "PbELNWBts9xx",
        "colab_type": "text"
      },
      "source": [
        "# ETL Section"
      ]
    },
    {
      "cell_type": "markdown",
      "metadata": {
        "id": "ukAVVUudtE2k",
        "colab_type": "text"
      },
      "source": [
        "## Dim Tables"
      ]
    },
    {
      "cell_type": "markdown",
      "metadata": {
        "id": "THeM8G9Btm9x",
        "colab_type": "text"
      },
      "source": [
        "users - users in the app\n",
        "  * user_id, first_name, last_name, gender, level\n",
        "\n",
        "songs - songs in music database\n",
        "  * song_id, title, artist_id, year, duration\n",
        "\n",
        "artists - artists in music database\n",
        "  * artist_id, name, location, lattitude, longitude\n",
        "\n",
        "time - timestamps of records in songplays broken down into specific units\n",
        "  * start_time, hour, day, week, month, year, weekday"
      ]
    },
    {
      "cell_type": "code",
      "metadata": {
        "id": "gGnHIid4sfsX",
        "colab_type": "code",
        "colab": {}
      },
      "source": [
        "# users table\n",
        "users_tbl = spark.sql(\"\"\"\n",
        "    select distinct userId as user_id\n",
        "          ,firstName as first_name\n",
        "          ,lastName as last_name\n",
        "          ,gender\n",
        "          ,level\n",
        "    from stg_event_raw\n",
        "    where userId is not null\n",
        "        and userId <> ''\n",
        "\"\"\")"
      ],
      "execution_count": 0,
      "outputs": []
    },
    {
      "cell_type": "code",
      "metadata": {
        "id": "XdtE2cx7t6vx",
        "colab_type": "code",
        "colab": {}
      },
      "source": [
        "# songs table\n",
        "songs_tbl = spark.sql(\"\"\"\n",
        "    select distinct song_id\n",
        "          ,title\n",
        "          ,artist_id\n",
        "          ,year\n",
        "          ,duration\n",
        "    from stg_song_raw\n",
        "    where song_id is not null\n",
        "        and song_id <> ''\n",
        "\"\"\")"
      ],
      "execution_count": 0,
      "outputs": []
    },
    {
      "cell_type": "code",
      "metadata": {
        "id": "JpEwaYq3t6mx",
        "colab_type": "code",
        "colab": {}
      },
      "source": [
        "# artists table\n",
        "artists_tbl = spark.sql(\"\"\"\n",
        "    select distinct artist_id\n",
        "          ,artist_name as name\n",
        "          ,artist_location as location\n",
        "          ,artist_latitude as latitude\n",
        "          ,artist_longitude as longitude\n",
        "    from stg_song_raw\n",
        "    where artist_id is not null\n",
        "        and artist_id <> ''\n",
        "\"\"\")"
      ],
      "execution_count": 0,
      "outputs": []
    },
    {
      "cell_type": "code",
      "metadata": {
        "id": "xRHzHK1-t6aR",
        "colab_type": "code",
        "colab": {
          "base_uri": "https://localhost:8080/",
          "height": 212
        },
        "outputId": "92d8fbd2-60ff-4416-c13d-bb199be8eb20"
      },
      "source": [
        "# time table\n",
        "spark.sql(\"\"\"\n",
        "    select start_time\n",
        "          ,hour(start_time) as hour\n",
        "          ,dayofmonth(start_time) as day\n",
        "    from\n",
        "    (\n",
        "        select distinct to_timestamp(ts/1000) as start_time\n",
        "        from stg_event_raw\n",
        "        where ts is not null\n",
        "    )\n",
        "\"\"\").show(5)"
      ],
      "execution_count": 23,
      "outputs": [
        {
          "output_type": "stream",
          "text": [
            "+--------------------+----+---+\n",
            "|          start_time|hour|day|\n",
            "+--------------------+----+---+\n",
            "|2018-11-12 15:55:...|  15| 12|\n",
            "|2018-11-12 15:57:...|  15| 12|\n",
            "|2018-11-12 19:45:...|  19| 12|\n",
            "|2018-11-12 05:42:...|   5| 12|\n",
            "|2018-11-12 20:50:...|  20| 12|\n",
            "+--------------------+----+---+\n",
            "only showing top 5 rows\n",
            "\n"
          ],
          "name": "stdout"
        }
      ]
    },
    {
      "cell_type": "code",
      "metadata": {
        "id": "_4oVV2LGuM5J",
        "colab_type": "code",
        "colab": {}
      },
      "source": [
        "time_tbl = spark.sql(\"\"\"\n",
        "    select start_time\n",
        "          ,hour(start_time) as hour\n",
        "          ,dayofmonth(start_time) as day\n",
        "          ,weekofyear(start_time) as week\n",
        "          ,month(start_time) as month\n",
        "          ,year(start_time) as year\n",
        "          ,dayofweek(start_time) as weekday\n",
        "    from\n",
        "    (\n",
        "        select distinct to_timestamp(ts/1000) as start_time\n",
        "        from stg_event_raw\n",
        "        where ts is not null\n",
        "    )\n",
        "\"\"\")"
      ],
      "execution_count": 0,
      "outputs": []
    },
    {
      "cell_type": "code",
      "metadata": {
        "id": "Bc4PjDmby4Ri",
        "colab_type": "code",
        "colab": {
          "base_uri": "https://localhost:8080/",
          "height": 34
        },
        "outputId": "65558b6a-cc4e-467f-b8e8-b78d8987e997"
      },
      "source": [
        "time_tbl.count()"
      ],
      "execution_count": 34,
      "outputs": [
        {
          "output_type": "execute_result",
          "data": {
            "text/plain": [
              "212"
            ]
          },
          "metadata": {
            "tags": []
          },
          "execution_count": 34
        }
      ]
    },
    {
      "cell_type": "code",
      "metadata": {
        "id": "xl51FP17y59z",
        "colab_type": "code",
        "colab": {
          "base_uri": "https://localhost:8080/",
          "height": 176
        },
        "outputId": "04b70e0e-486a-4c35-c2d8-c1c3d88934c4"
      },
      "source": [
        "time_tbl.show(3)"
      ],
      "execution_count": 35,
      "outputs": [
        {
          "output_type": "stream",
          "text": [
            "+--------------------+----+---+----+-----+----+-------+\n",
            "|          start_time|hour|day|week|month|year|weekday|\n",
            "+--------------------+----+---+----+-----+----+-------+\n",
            "|2018-11-12 15:55:...|  15| 12|  46|   11|2018|      2|\n",
            "|2018-11-12 15:57:...|  15| 12|  46|   11|2018|      2|\n",
            "|2018-11-12 19:45:...|  19| 12|  46|   11|2018|      2|\n",
            "+--------------------+----+---+----+-----+----+-------+\n",
            "only showing top 3 rows\n",
            "\n"
          ],
          "name": "stdout"
        }
      ]
    },
    {
      "cell_type": "markdown",
      "metadata": {
        "id": "qI5BRbyJtHMY",
        "colab_type": "text"
      },
      "source": [
        "## Fact Table"
      ]
    },
    {
      "cell_type": "markdown",
      "metadata": {
        "id": "fsX5yKZYuRM4",
        "colab_type": "text"
      },
      "source": [
        "songplays - records in log data associated with song plays i.e. records with page NextSong\n",
        "\n",
        "  * songplay_id, start_time, user_id, level, song_id, artist_id, session_id, location, user_agent"
      ]
    },
    {
      "cell_type": "code",
      "metadata": {
        "id": "ctk3ngV9tIp3",
        "colab_type": "code",
        "colab": {
          "base_uri": "https://localhost:8080/",
          "height": 197
        },
        "outputId": "adf75a43-bc33-4f41-f6b8-51fa2a949bf9"
      },
      "source": [
        "spark.sql(\"\"\"\n",
        "    select monotonically_increasing_id() as songplay_id\n",
        "          ,to_timestamp(log.ts/1000) as start_time\n",
        "          ,log.userId as user_id\n",
        "          ,log.level \n",
        "          ,log.sessionId as session_id\n",
        "          ,log.location\n",
        "          ,log.userAgent as user_agent\n",
        "    from stg_event_raw as log\n",
        "    where page = 'NextSong'\n",
        "\"\"\").limit(5).toPandas()"
      ],
      "execution_count": 25,
      "outputs": [
        {
          "output_type": "execute_result",
          "data": {
            "text/html": [
              "<div>\n",
              "<style scoped>\n",
              "    .dataframe tbody tr th:only-of-type {\n",
              "        vertical-align: middle;\n",
              "    }\n",
              "\n",
              "    .dataframe tbody tr th {\n",
              "        vertical-align: top;\n",
              "    }\n",
              "\n",
              "    .dataframe thead th {\n",
              "        text-align: right;\n",
              "    }\n",
              "</style>\n",
              "<table border=\"1\" class=\"dataframe\">\n",
              "  <thead>\n",
              "    <tr style=\"text-align: right;\">\n",
              "      <th></th>\n",
              "      <th>songplay_id</th>\n",
              "      <th>start_time</th>\n",
              "      <th>user_id</th>\n",
              "      <th>level</th>\n",
              "      <th>session_id</th>\n",
              "      <th>location</th>\n",
              "      <th>user_agent</th>\n",
              "    </tr>\n",
              "  </thead>\n",
              "  <tbody>\n",
              "    <tr>\n",
              "      <th>0</th>\n",
              "      <td>0</td>\n",
              "      <td>2018-11-12 02:37:38.796</td>\n",
              "      <td>10</td>\n",
              "      <td>free</td>\n",
              "      <td>345</td>\n",
              "      <td>Washington-Arlington-Alexandria, DC-VA-MD-WV</td>\n",
              "      <td>\"Mozilla/5.0 (Macintosh; Intel Mac OS X 10_9_4...</td>\n",
              "    </tr>\n",
              "    <tr>\n",
              "      <th>1</th>\n",
              "      <td>1</td>\n",
              "      <td>2018-11-12 02:37:44.796</td>\n",
              "      <td>53</td>\n",
              "      <td>free</td>\n",
              "      <td>438</td>\n",
              "      <td>Klamath Falls, OR</td>\n",
              "      <td>\"Mozilla/5.0 (Windows NT 6.1; WOW64) AppleWebK...</td>\n",
              "    </tr>\n",
              "    <tr>\n",
              "      <th>2</th>\n",
              "      <td>2</td>\n",
              "      <td>2018-11-12 02:42:21.796</td>\n",
              "      <td>53</td>\n",
              "      <td>free</td>\n",
              "      <td>438</td>\n",
              "      <td>Klamath Falls, OR</td>\n",
              "      <td>\"Mozilla/5.0 (Windows NT 6.1; WOW64) AppleWebK...</td>\n",
              "    </tr>\n",
              "    <tr>\n",
              "      <th>3</th>\n",
              "      <td>3</td>\n",
              "      <td>2018-11-12 02:45:52.796</td>\n",
              "      <td>53</td>\n",
              "      <td>free</td>\n",
              "      <td>438</td>\n",
              "      <td>Klamath Falls, OR</td>\n",
              "      <td>\"Mozilla/5.0 (Windows NT 6.1; WOW64) AppleWebK...</td>\n",
              "    </tr>\n",
              "    <tr>\n",
              "      <th>4</th>\n",
              "      <td>4</td>\n",
              "      <td>2018-11-12 02:47:22.796</td>\n",
              "      <td>29</td>\n",
              "      <td>paid</td>\n",
              "      <td>389</td>\n",
              "      <td>Atlanta-Sandy Springs-Roswell, GA</td>\n",
              "      <td>\"Mozilla/5.0 (Macintosh; Intel Mac OS X 10_9_4...</td>\n",
              "    </tr>\n",
              "  </tbody>\n",
              "</table>\n",
              "</div>"
            ],
            "text/plain": [
              "   songplay_id  ...                                         user_agent\n",
              "0            0  ...  \"Mozilla/5.0 (Macintosh; Intel Mac OS X 10_9_4...\n",
              "1            1  ...  \"Mozilla/5.0 (Windows NT 6.1; WOW64) AppleWebK...\n",
              "2            2  ...  \"Mozilla/5.0 (Windows NT 6.1; WOW64) AppleWebK...\n",
              "3            3  ...  \"Mozilla/5.0 (Windows NT 6.1; WOW64) AppleWebK...\n",
              "4            4  ...  \"Mozilla/5.0 (Macintosh; Intel Mac OS X 10_9_4...\n",
              "\n",
              "[5 rows x 7 columns]"
            ]
          },
          "metadata": {
            "tags": []
          },
          "execution_count": 25
        }
      ]
    },
    {
      "cell_type": "code",
      "metadata": {
        "id": "yo0ujJKEuYch",
        "colab_type": "code",
        "colab": {}
      },
      "source": [
        "songplays_tbl = spark.sql(\"\"\"\n",
        "    select monotonically_increasing_id() as songplay_id\n",
        "          ,to_timestamp(log.ts/1000) as start_time\n",
        "          ,month(to_timestamp(log.ts/1000)) as month\n",
        "          ,year(to_timestamp(log.ts/1000)) as year\n",
        "          ,log.userId as user_id\n",
        "          ,log.level \n",
        "          ,song.song_id\n",
        "          ,song.artist_id\n",
        "          ,log.sessionId as session_id\n",
        "          ,log.location\n",
        "          ,log.userAgent as user_agent\n",
        "    from stg_event_raw as log\n",
        "    join stg_song_raw as song\n",
        "        on log.artist = song.artist_name\n",
        "        and log.song = song.title\n",
        "    where page = 'NextSong'\n",
        "\"\"\")"
      ],
      "execution_count": 0,
      "outputs": []
    },
    {
      "cell_type": "code",
      "metadata": {
        "id": "1OqcdM-KwG16",
        "colab_type": "code",
        "colab": {
          "base_uri": "https://localhost:8080/",
          "height": 105
        },
        "outputId": "f26695cf-20df-47dc-8944-9c01f38cc8f6"
      },
      "source": [
        "songplays_tbl.show(2)"
      ],
      "execution_count": 31,
      "outputs": [
        {
          "output_type": "stream",
          "text": [
            "+-----------+----------+-----+----+-------+-----+-------+---------+----------+--------+----------+\n",
            "|songplay_id|start_time|month|year|user_id|level|song_id|artist_id|session_id|location|user_agent|\n",
            "+-----------+----------+-----+----+-------+-----+-------+---------+----------+--------+----------+\n",
            "+-----------+----------+-----+----+-------+-----+-------+---------+----------+--------+----------+\n",
            "\n"
          ],
          "name": "stdout"
        }
      ]
    },
    {
      "cell_type": "markdown",
      "metadata": {
        "id": "Esjp5fqXs_PX",
        "colab_type": "text"
      },
      "source": [
        "# Write to Parquet"
      ]
    },
    {
      "cell_type": "markdown",
      "metadata": {
        "id": "qJi1YA7ptCQj",
        "colab_type": "text"
      },
      "source": [
        "Requirements:  Each of the five tables are written to parquet files in a separate analytics directory on S3. Each table has its own folder within the directory. Songs table files are partitioned by year and then artist. Time table files are partitioned by year and month. Songplays table files are partitioned by year and month."
      ]
    },
    {
      "cell_type": "code",
      "metadata": {
        "id": "Y9Ztou35tBFx",
        "colab_type": "code",
        "colab": {}
      },
      "source": [
        "output_data = \"s3a://xuren-data-eng-nd/spark_dl/\"\n",
        "songplays_tbl.write.mode('overwrite').partitionBy(\"year\", \"month\").parquet(output_data+'songplays_table/')"
      ],
      "execution_count": 0,
      "outputs": []
    },
    {
      "cell_type": "code",
      "metadata": {
        "id": "LqUdEb7IwhS7",
        "colab_type": "code",
        "colab": {}
      },
      "source": [
        "users_tbl.write.mode('overwrite').parquet(output_data+'users_table/')"
      ],
      "execution_count": 0,
      "outputs": []
    },
    {
      "cell_type": "code",
      "metadata": {
        "id": "4UbnA7FYwpGp",
        "colab_type": "code",
        "colab": {}
      },
      "source": [
        "artists_tbl.write.mode('overwrite').parquet(output_data+'artists_table/')"
      ],
      "execution_count": 0,
      "outputs": []
    },
    {
      "cell_type": "code",
      "metadata": {
        "id": "J8A8Ur2hwtc3",
        "colab_type": "code",
        "colab": {}
      },
      "source": [
        "songs_tbl.write.mode('overwrite').partitionBy(\"year\", \"artist_id\").parquet(output_data+'songs_table/')"
      ],
      "execution_count": 0,
      "outputs": []
    },
    {
      "cell_type": "code",
      "metadata": {
        "id": "MKi9kp7zvu_a",
        "colab_type": "code",
        "colab": {}
      },
      "source": [
        "time_tbl.write.mode(\"overwrite\").partitionBy(\"year\", \"month\").parquet(output_data+'time_table/')"
      ],
      "execution_count": 0,
      "outputs": []
    },
    {
      "cell_type": "code",
      "metadata": {
        "id": "qQVDrvwG2K-J",
        "colab_type": "code",
        "colab": {}
      },
      "source": [
        ""
      ],
      "execution_count": 0,
      "outputs": []
    }
  ]
}